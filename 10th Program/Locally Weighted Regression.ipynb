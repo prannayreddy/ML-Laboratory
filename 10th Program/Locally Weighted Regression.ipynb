{
 "cells": [
  {
   "cell_type": "markdown",
   "metadata": {},
   "source": [
    "# Problem 10: Implement the non-parametric Locally Weighted Regression (LOWESS) algorithm in order to fit data points. Select appropriate data set for your experiment and draw graphs."
   ]
  },
  {
   "cell_type": "markdown",
   "metadata": {},
   "source": [
    "#    Example 1: Fitting to Give n Ploynomial Of degree 1 (Linear Regression)"
   ]
  },
  {
   "cell_type": "code",
   "execution_count": 17,
   "metadata": {
    "collapsed": true,
    "jupyter": {
     "outputs_hidden": true
    }
   },
   "outputs": [],
   "source": [
    "from math import ceil\n",
    "import numpy as np\n",
    "from scipy import linalg  \n",
    " \n",
    " \n",
    "    n = len(x) # Number of x  points \n",
    "    r = int(ceil(f * n))  # Computing the residual of smoothing functions \n",
    "    print(\"\\n The points neigbour to x0 (f*n): proportion of observations to use for local regression \")\n",
    "    h = [np.sort(np.abs(x - x[i]))[r] for i in range(n)] # To find the set of farthest points\n",
    "    print(\"\\n \")\n",
    "    w = np.clip(np.abs((x[:, None] - x[None, :]) / h), 0.0, 1.0)  # w = distance between ith point / Largest Distance \n",
    "    w = (1 - w ** 3) ** 3  # Tricube Weight Function\n",
    "    ypred = np.zeros(n) # Initialisation of predictor \n",
    "    delta = np.ones(n)  # Initialisation of delta\n",
    "   \n",
    "    for iteration in range(iter): # REgression Model\n",
    "        for i in range(n):\n",
    "            weights = delta * w[:, i] # Assigning Weights to each point \n",
    "            b = np.array([np.sum(weights * y), np.sum(weights * y * x)]) # Matrix B\n",
    "            A = np.array([[np.sum(weights), np.sum(weights * x)],\n",
    "                          [np.sum(weights * x), np.sum(weights * x * x)]]) # Matrix A\n",
    "                      \n",
    "            beta = linalg.solve(A, b) # Beta,Solution of AX= B equation \n",
    "            ypred[i] = beta[0] + beta[1] * x[i]\n",
    "             \n",
    "        residuals = y - ypred   # Finding Residuals\n",
    "        s = np.median(np.abs(residuals))  # Median of Residuals\n",
    "        delta = np.clip(residuals / (6.0 * s), -1, 1)  # Delta\n",
    "        delta = (1 - delta ** 2) ** 2   # Delta \n",
    " \n",
    "    return ypred\n"
   ]
  },
  {
   "cell_type": "code",
   "execution_count": 18,
   "metadata": {},
   "outputs": [
    {
     "name": "stdout",
     "output_type": "stream",
     "text": [
      " X Data Sets :\n",
      "\n",
      " [ 0.          0.06346652  0.12693304  0.19039955  0.25386607  0.31733259\n",
      "  0.38079911  0.44426563  0.50773215  0.57119866  0.63466518  0.6981317\n",
      "  0.76159822  0.82506474  0.88853126  0.95199777  1.01546429  1.07893081\n",
      "  1.14239733  1.20586385  1.26933037  1.33279688  1.3962634   1.45972992\n",
      "  1.52319644  1.58666296  1.65012947  1.71359599  1.77706251  1.84052903\n",
      "  1.90399555  1.96746207  2.03092858  2.0943951   2.15786162  2.22132814\n",
      "  2.28479466  2.34826118  2.41172769  2.47519421  2.53866073  2.60212725\n",
      "  2.66559377  2.72906028  2.7925268   2.85599332  2.91945984  2.98292636\n",
      "  3.04639288  3.10985939  3.17332591  3.23679243  3.30025895  3.36372547\n",
      "  3.42719199  3.4906585   3.55412502  3.61759154  3.68105806  3.74452458\n",
      "  3.8079911   3.87145761  3.93492413  3.99839065  4.06185717  4.12532369\n",
      "  4.1887902   4.25225672  4.31572324  4.37918976  4.44265628  4.5061228\n",
      "  4.56958931  4.63305583  4.69652235  4.75998887  4.82345539  4.88692191\n",
      "  4.95038842  5.01385494  5.07732146  5.14078798  5.2042545   5.26772102\n",
      "  5.33118753  5.39465405  5.45812057  5.52158709  5.58505361  5.64852012\n",
      "  5.71198664  5.77545316  5.83891968  5.9023862   5.96585272  6.02931923\n",
      "  6.09278575  6.15625227  6.21971879  6.28318531]\n",
      " Y Data Sets :\n",
      "\n",
      " [ -5.72039809e-02  -3.38876430e-02   3.29055714e-01  -1.75057284e-01\n",
      "   7.07266230e-01  -3.27761998e-02   2.18039293e-01   7.41579212e-01\n",
      "   4.46357512e-01   1.80275166e-01   6.13748217e-01   3.18855043e-01\n",
      "   8.66178007e-01   1.01611119e+00   6.22611679e-01   9.94634670e-01\n",
      "   1.01002575e+00   1.43278412e+00   9.51485989e-01   1.42856342e+00\n",
      "   8.32454234e-01   9.93177870e-01   1.12381892e+00   1.36854003e+00\n",
      "   1.17973159e+00   1.34712256e+00   4.76449744e-01   8.36188720e-01\n",
      "   1.08787930e+00   8.81653790e-01   7.60936183e-01   1.19237672e+00\n",
      "   7.30312294e-01   8.90821980e-01   1.33122572e+00   5.06481243e-01\n",
      "   5.64487059e-01   7.95029126e-01   5.45083831e-01   7.03336564e-01\n",
      "   2.53584485e-01   1.73197236e-01   8.12782694e-01  -1.71978117e-01\n",
      "   7.38992493e-01   1.07273882e-01   4.36105701e-01  -5.73115858e-01\n",
      "  -1.67748231e-01  -2.76413045e-01   3.43599017e-01  -3.07286341e-01\n",
      "  -8.21774691e-03  -6.59321351e-02   2.83401801e-04  -4.78670034e-01\n",
      "   3.66085511e-01  -7.68876942e-01  -3.95052846e-01  -7.89730463e-01\n",
      "  -7.48408757e-01  -8.08444900e-01  -4.73769096e-01  -7.62517459e-01\n",
      "  -1.13192202e+00  -7.37932654e-01  -8.08839195e-01  -7.41953752e-01\n",
      "  -6.55604325e-01  -6.57389786e-01  -8.47320965e-01  -6.08638642e-01\n",
      "  -1.13435489e+00  -1.52254671e+00  -6.42546067e-01  -1.30755772e+00\n",
      "  -1.55638967e+00  -8.04040115e-01  -9.66926223e-01  -4.70006117e-01\n",
      "  -1.32551826e+00  -1.01773836e+00  -1.03064000e+00  -1.35865845e+00\n",
      "  -8.59472486e-01  -1.05739701e+00  -9.97167080e-01  -9.31330006e-01\n",
      "  -4.08331508e-01  -6.55596779e-01  -3.12512181e-01  -6.47091695e-01\n",
      "  -4.60499408e-01  -3.36105530e-02   1.28430194e-01  -9.61415985e-03\n",
      "  -4.90296543e-01   1.71338551e-01  -2.24476368e-01   2.09714383e-01]\n"
     ]
    }
   ],
   "source": [
    "import math\n",
    "    \n",
    "n = 100  # Number of data points\n",
    "   \n",
    "#Case1: Sinusoidal Fitting \n",
    "x = np.linspace(0, 2 * math.pi, n) # Data Sets \n",
    "print(\" X Data Sets :\\n\\n\",x)\n",
    "y = np.sin(x) + 0.3 * np.random.randn(n) \n",
    "print(\" Y Data Sets :\\n\\n\",y)"
   ]
  },
  {
   "cell_type": "code",
   "execution_count": 19,
   "metadata": {},
   "outputs": [
    {
     "name": "stdout",
     "output_type": "stream",
     "text": [
      "\n",
      " The points neigbour to x0 (f*n): proportion of observations to use for local regression \n",
      "\n",
      " \n"
     ]
    }
   ],
   "source": [
    "ypred = lowess(x, y, f=0.35, iter=3)"
   ]
  },
  {
   "cell_type": "code",
   "execution_count": 20,
   "metadata": {},
   "outputs": [
    {
     "data": {
      "image/png": "[encoded data removed]",
      "text/plain": [
       "<matplotlib.figure.Figure at 0x97bb590>"
      ]
     },
     "metadata": {},
     "output_type": "display_data"
    }
   ],
   "source": [
    "import matplotlib\n",
    "import matplotlib.pyplot as plt\n",
    "\n",
    "fig = plt.figure()\n",
    "ax = fig.add_subplot(1,1,1)\n",
    "ax.scatter(x,y, color='green')\n",
    "ax.plot(x,ypred, color = 'red', linewidth=5)\n",
    "plt.xlabel('X')\n",
    "plt.ylabel('Y')\n",
    "plt.show();"
   ]
  },
  {
   "cell_type": "code",
   "execution_count": 21,
   "metadata": {
    "collapsed": true,
    "jupyter": {
     "outputs_hidden": true
    }
   },
   "outputs": [],
   "source": [
    "#Case2 : Straight Line Fitting\n",
    "x=np.linspace(0,2.5,n) # For Linear\n",
    "y= 1 + 0.25*np.random.randn(n) # For Linear\n",
    "#f = 0.35 # Smoothing parameter\n"
   ]
  },
  {
   "cell_type": "code",
   "execution_count": 22,
   "metadata": {},
   "outputs": [
    {
     "name": "stdout",
     "output_type": "stream",
     "text": [
      "\n",
      " The points neigbour to x0 (f*n): proportion of observations to use for local regression \n",
      "\n",
      " \n"
     ]
    }
   ],
   "source": [
    "ypred = lowess(x, y, f=0.35, iter=3)"
   ]
  },
  {
   "cell_type": "code",
   "execution_count": 23,
   "metadata": {},
   "outputs": [
    {
     "data": {
      "image/png": "[encoded data removed]",
      "text/plain": [
       "<matplotlib.figure.Figure at 0x96821d0>"
      ]
     },
     "metadata": {},
     "output_type": "display_data"
    }
   ],
   "source": [
    "import matplotlib\n",
    "import matplotlib.pyplot as plt\n",
    "\n",
    "fig = plt.figure()\n",
    "ax = fig.add_subplot(1,1,1)\n",
    "ax.scatter(x,y, color='green')\n",
    "ax.plot(x,ypred, color = 'red', linewidth=5)\n",
    "plt.xlabel('X')\n",
    "plt.ylabel('Y')\n",
    "plt.show();"
   ]
  },
  {
   "cell_type": "markdown",
   "metadata": {},
   "source": [
    "# Example 2: House Price Prediction "
   ]
  },
  {
   "cell_type": "code",
   "execution_count": 10,
   "metadata": {},
   "outputs": [
    {
     "data": {
      "text/html": [
       "<div>\n",
       "<style>\n",
       "    .dataframe thead tr:only-child th {\n",
       "        text-align: right;\n",
       "    }\n",
       "\n",
       "    .dataframe thead th {\n",
       "        text-align: left;\n",
       "    }\n",
       "\n",
       "    .dataframe tbody tr th {\n",
       "        vertical-align: top;\n",
       "    }\n",
       "</style>\n",
       "<table border=\"1\" class=\"dataframe\">\n",
       "  <thead>\n",
       "    <tr style=\"text-align: right;\">\n",
       "      <th></th>\n",
       "      <th>CRIM</th>\n",
       "      <th>ZN</th>\n",
       "      <th>INDUS</th>\n",
       "      <th>CHAS</th>\n",
       "      <th>NOX</th>\n",
       "      <th>RM</th>\n",
       "      <th>AGE</th>\n",
       "      <th>DIS</th>\n",
       "      <th>RAD</th>\n",
       "      <th>TAX</th>\n",
       "      <th>PTRATIO</th>\n",
       "      <th>B</th>\n",
       "      <th>LSTAT</th>\n",
       "      <th>MEDV</th>\n",
       "    </tr>\n",
       "  </thead>\n",
       "  <tbody>\n",
       "    <tr>\n",
       "      <th>0</th>\n",
       "      <td>0.00632</td>\n",
       "      <td>18.0</td>\n",
       "      <td>2.31</td>\n",
       "      <td>0</td>\n",
       "      <td>0.538</td>\n",
       "      <td>6.575</td>\n",
       "      <td>65.2</td>\n",
       "      <td>4.0900</td>\n",
       "      <td>1</td>\n",
       "      <td>296.0</td>\n",
       "      <td>15.3</td>\n",
       "      <td>396.90</td>\n",
       "      <td>4.98</td>\n",
       "      <td>24.0</td>\n",
       "    </tr>\n",
       "    <tr>\n",
       "      <th>1</th>\n",
       "      <td>0.02731</td>\n",
       "      <td>0.0</td>\n",
       "      <td>7.07</td>\n",
       "      <td>0</td>\n",
       "      <td>0.469</td>\n",
       "      <td>6.421</td>\n",
       "      <td>78.9</td>\n",
       "      <td>4.9671</td>\n",
       "      <td>2</td>\n",
       "      <td>242.0</td>\n",
       "      <td>17.8</td>\n",
       "      <td>396.90</td>\n",
       "      <td>9.14</td>\n",
       "      <td>21.6</td>\n",
       "    </tr>\n",
       "    <tr>\n",
       "      <th>2</th>\n",
       "      <td>0.02729</td>\n",
       "      <td>0.0</td>\n",
       "      <td>7.07</td>\n",
       "      <td>0</td>\n",
       "      <td>0.469</td>\n",
       "      <td>7.185</td>\n",
       "      <td>61.1</td>\n",
       "      <td>4.9671</td>\n",
       "      <td>2</td>\n",
       "      <td>242.0</td>\n",
       "      <td>17.8</td>\n",
       "      <td>392.83</td>\n",
       "      <td>4.03</td>\n",
       "      <td>34.7</td>\n",
       "    </tr>\n",
       "    <tr>\n",
       "      <th>3</th>\n",
       "      <td>0.03237</td>\n",
       "      <td>0.0</td>\n",
       "      <td>2.18</td>\n",
       "      <td>0</td>\n",
       "      <td>0.458</td>\n",
       "      <td>6.998</td>\n",
       "      <td>45.8</td>\n",
       "      <td>6.0622</td>\n",
       "      <td>3</td>\n",
       "      <td>222.0</td>\n",
       "      <td>18.7</td>\n",
       "      <td>394.63</td>\n",
       "      <td>2.94</td>\n",
       "      <td>33.4</td>\n",
       "    </tr>\n",
       "    <tr>\n",
       "      <th>4</th>\n",
       "      <td>0.06905</td>\n",
       "      <td>0.0</td>\n",
       "      <td>2.18</td>\n",
       "      <td>0</td>\n",
       "      <td>0.458</td>\n",
       "      <td>7.147</td>\n",
       "      <td>54.2</td>\n",
       "      <td>6.0622</td>\n",
       "      <td>3</td>\n",
       "      <td>222.0</td>\n",
       "      <td>18.7</td>\n",
       "      <td>396.90</td>\n",
       "      <td>5.33</td>\n",
       "      <td>36.2</td>\n",
       "    </tr>\n",
       "  </tbody>\n",
       "</table>\n",
       "</div>"
      ],
      "text/plain": [
       "      CRIM    ZN  INDUS  CHAS    NOX     RM   AGE     DIS  RAD    TAX  \\\n",
       "0  0.00632  18.0   2.31     0  0.538  6.575  65.2  4.0900    1  296.0   \n",
       "1  0.02731   0.0   7.07     0  0.469  6.421  78.9  4.9671    2  242.0   \n",
       "2  0.02729   0.0   7.07     0  0.469  7.185  61.1  4.9671    2  242.0   \n",
       "3  0.03237   0.0   2.18     0  0.458  6.998  45.8  6.0622    3  222.0   \n",
       "4  0.06905   0.0   2.18     0  0.458  7.147  54.2  6.0622    3  222.0   \n",
       "\n",
       "   PTRATIO       B  LSTAT  MEDV  \n",
       "0     15.3  396.90   4.98  24.0  \n",
       "1     17.8  396.90   9.14  21.6  \n",
       "2     17.8  392.83   4.03  34.7  \n",
       "3     18.7  394.63   2.94  33.4  \n",
       "4     18.7  396.90   5.33  36.2  "
      ]
     },
     "execution_count": 10,
     "metadata": {},
     "output_type": "execute_result"
    }
   ],
   "source": [
    "import pandas as pd\n",
    "#df = pd.read_csv('https://archive.ics.uci.edu/ml/machine-learningdatabases/housing/housing.data',header=None, sep='\\s+')\n",
    "df = pd.read_csv('C:\\\\Users\\\\Pr\\\\Data\\\\set.txt',header=None, sep='\\s+')\n",
    "df.columns = ['CRIM', 'ZN', 'INDUS', 'CHAS', 'NOX', 'RM', 'AGE', 'DIS', 'RAD','TAX', 'PTRATIO', 'B', 'LSTAT', 'MEDV']\n",
    "df.head(5)"
   ]
  },
  {
   "cell_type": "code",
   "execution_count": 11,
   "metadata": {
    "collapsed": true,
    "jupyter": {
     "outputs_hidden": true
    }
   },
   "outputs": [],
   "source": [
    "X = df[['RM']].values # Number of Rooms\n",
    "Y = df[['MEDV']].values # \n"
   ]
  },
  {
   "cell_type": "code",
   "execution_count": 16,
   "metadata": {},
   "outputs": [
    {
     "data": {
      "image/png": "[encoded data removed]",
      "text/plain": [
       "<matplotlib.figure.Figure at 0x96f0a50>"
      ]
     },
     "metadata": {},
     "output_type": "display_data"
    }
   ],
   "source": [
    "from math import ceil\n",
    "import numpy as np\n",
    "from scipy import linalg  \n",
    " \n",
    " \n",
    "def lowess(x, y, f= 2. / 3., iter=3):\n",
    "    \n",
    "    n = len(x) # Number of x  points \n",
    "    r = int(ceil(f * n))  # Computing the residual of smoothing functions \n",
    "    h = [np.sort(np.abs(x - x[i]))[r] for i in range(n)] # \n",
    "    w = np.clip(np.abs((x[:, None] - x[None, :]) / h), 0.0, 1.0)  # Weight Function \n",
    "    w = (1 - w ** 3) ** 3  # Tricube Weight Function\n",
    "    ypred = np.zeros(n) # Initialisation of predictor \n",
    "    delta = np.ones(n)  # Initialisation of delta\n",
    "   \n",
    "    for iteration in range(iter):\n",
    "        for i in range(n):\n",
    "            weights = delta * w[:, i] # Cumulative Weights \n",
    "            b = np.array([np.sum(weights * y), np.sum(weights * y * x)]) # Matrix B\n",
    "            A = np.array([[np.sum(weights), np.sum(weights * x)],\n",
    "                          [np.sum(weights * x), np.sum(weights * x * x)]]) # Matrix A\n",
    "                      \n",
    "            beta = linalg.solve(A, b) # Beta,Solution of AX= B equation \n",
    "            ypred[i] = beta[0] + beta[1] * x[i]\n",
    "             \n",
    "        residuals = y - ypred   # Finding Residuals\n",
    "        s = np.median(np.abs(residuals))  # Median of Residuals\n",
    "        delta = np.clip(residuals / (6.0 * s), -1, 1)  # Delta\n",
    "        delta = (1 - delta ** 2) ** 2   # Delta \n",
    " \n",
    "    return ypred\n",
    " \n",
    "if __name__ == '__main__':  # Main Function\n",
    "    \n",
    "    import math\n",
    "    \n",
    "    n = 100  # Number of data points\n",
    "   \n",
    "    #Case1: Sinusoidal Fitting \n",
    "    x = X[:100].ravel()   # House Room Data for modeling \n",
    "    y = Y[:100].ravel()   # Noisy House Price data\n",
    "       \n",
    "    \n",
    "    \n",
    "    f = 0.66\n",
    "    ypred = lowess(x, y, f=f, iter=3)  # Predicted House Price Data\n",
    "    \n",
    "    fig = plt.figure()\n",
    "    ax = fig.add_subplot(1,1,1)\n",
    "    ax.scatter(x,y, color='green')\n",
    "    ax.plot(x,ypred, color = 'red', linewidth=1)\n",
    "    plt.xlabel('X')\n",
    "    plt.ylabel('Y')\n",
    "    plt.show();"
   ]
  }
 ],
 "metadata": {
  "kernelspec": {
   "display_name": "Python 3",
   "language": "python",
   "name": "python3"
  },
  "language_info": {
   "codemirror_mode": {
    "name": "ipython",
    "version": 3
   },
   "file_extension": ".py",
   "mimetype": "text/x-python",
   "name": "python",
   "nbconvert_exporter": "python",
   "pygments_lexer": "ipython3",
   "version": "3.7.3"
  }
 },
 "nbformat": 4,
 "nbformat_minor": 4
}
